{
 "cells": [
  {
   "cell_type": "markdown",
   "metadata": {},
   "source": [
    "# Python Basics\n",
    "\n",
    "\n",
    "This notebook contains Basics of Python\n",
    "1. Data Types\n",
    "    a. Numbers\n",
    "    b. Strings\n",
    "    c. Printing\n",
    "    d. Lists\n",
    "    e. Dictionaries\n",
    "    f. Booleans\n",
    "    g. Tuples\n",
    "    h. Sets\n",
    "2. Comaprision Operators\n",
    "3. if,elfi,else Statements\n",
    "4. for loops\n",
    "5. range()\n",
    "6. list comprehension\n",
    "7. functions\n",
    "8. lambda expressions\n",
    "9. map and filter\n",
    "10. methods"
   ]
  },
  {
   "cell_type": "code",
   "execution_count": null,
   "metadata": {},
   "outputs": [],
   "source": []
  }
 ],
 "metadata": {
  "kernelspec": {
   "display_name": "Python 3",
   "language": "python",
   "name": "python3"
  },
  "language_info": {
   "codemirror_mode": {
    "name": "ipython",
    "version": 3
   },
   "file_extension": ".py",
   "mimetype": "text/x-python",
   "name": "python",
   "nbconvert_exporter": "python",
   "pygments_lexer": "ipython3",
   "version": "3.6.6"
  }
 },
 "nbformat": 4,
 "nbformat_minor": 2
}
